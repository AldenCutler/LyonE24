{
 "cells": [
  {
   "cell_type": "code",
   "execution_count": 2,
   "metadata": {
    "collapsed": true
   },
   "outputs": [],
   "source": [
    "import sqlite3\n",
    "import pandas as pd\n",
    "import googlemaps\n",
    "import yaml\n",
    "import json"
   ]
  },
  {
   "cell_type": "code",
   "execution_count": 3,
   "outputs": [
    {
     "name": "stdout",
     "output_type": "stream",
     "text": [
      "[('journeys',), ('stops',), ('outages',)]\n"
     ]
    },
    {
     "data": {
      "text/plain": "<sqlite3.Cursor at 0x136769540>"
     },
     "execution_count": 3,
     "metadata": {},
     "output_type": "execute_result"
    }
   ],
   "source": [
    "# Connect to the database\n",
    "conn = sqlite3.connect('../max-experiments/itinerary-scraping/journeys.db')\n",
    "# display the schema\n",
    "cursor = conn.cursor()\n",
    "cursor.execute(\"SELECT name FROM sqlite_master WHERE type='table';\")\n",
    "print(cursor.fetchall())\n",
    "\n",
    "cursor.execute(\"SELECT * FROM journeys\")"
   ],
   "metadata": {
    "collapsed": false
   }
  },
  {
   "cell_type": "code",
   "execution_count": 28,
   "outputs": [
    {
     "name": "stdout",
     "output_type": "stream",
     "text": [
      "Route Example: Antonins->Harmonie Campus Pro\n"
     ]
    }
   ],
   "source": [
    "# Sample Limit\n",
    "SAMPLE_LIMIT = 50\n",
    "# Get starting and ending coordinastes\n",
    "cursor.execute(\"SELECT stops from journeys\\n\"\n",
    "               \"ORDER BY random()\")\n",
    "stops = cursor.fetchmany(SAMPLE_LIMIT)\n",
    "\n",
    "# Load stop list and get start and end point\n",
    "stop_dict = [json.loads(stop[0]) for stop in stops]\n",
    "start_locations = [los[0]['stop_point'] for los in stop_dict]\n",
    "end_locations = [los[-1]['stop_point'] for los in stop_dict]\n",
    "\n",
    "print(f\"Route Example: {start_locations[0]}->{end_locations[0]}\")\n",
    "\n",
    "#\n",
    "\n",
    "# Get stop coordinate table prepared\n",
    "cursor.execute(\"SELECT name,coord FROM stops\")\n",
    "stop_coords = cursor.fetchall()\n",
    "\n"
   ],
   "metadata": {
    "collapsed": false
   }
  },
  {
   "cell_type": "code",
   "execution_count": 26,
   "outputs": [],
   "source": [
    "# Initialize Google Maps API\n",
    "# Get API Key from api_key.yaml\n",
    "key = None\n",
    "with open(\"api_key.yaml\") as key_file:\n",
    "    try:\n",
    "        data = yaml.safe_load(key_file)\n",
    "        key = data['key']\n",
    "    except yaml.YAMLError as e:\n",
    "        print(e)\n",
    "        exit(1)\n",
    "\n",
    "# Start Google Maps\n",
    "#gmaps = googlemaps.Client(key=key)\n",
    "\n",
    "# Reverse geocode all coordinates"
   ],
   "metadata": {
    "collapsed": false
   }
  },
  {
   "cell_type": "code",
   "execution_count": 43,
   "outputs": [],
   "source": [],
   "metadata": {
    "collapsed": false
   }
  }
 ],
 "metadata": {
  "kernelspec": {
   "display_name": "Python 3",
   "language": "python",
   "name": "python3"
  },
  "language_info": {
   "codemirror_mode": {
    "name": "ipython",
    "version": 2
   },
   "file_extension": ".py",
   "mimetype": "text/x-python",
   "name": "python",
   "nbconvert_exporter": "python",
   "pygments_lexer": "ipython2",
   "version": "2.7.6"
  }
 },
 "nbformat": 4,
 "nbformat_minor": 0
}
