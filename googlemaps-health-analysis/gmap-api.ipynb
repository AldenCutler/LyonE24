{
 "cells": [
  {
   "cell_type": "code",
   "execution_count": 26,
   "metadata": {
    "collapsed": true
   },
   "outputs": [],
   "source": [
    "import sqlite3\n",
    "import pandas as pd\n",
    "import googlemaps\n",
    "import yaml\n",
    "import json\n",
    "import datetime"
   ]
  },
  {
   "cell_type": "code",
   "execution_count": 3,
   "outputs": [
    {
     "name": "stdout",
     "output_type": "stream",
     "text": [
      "[('journeys',), ('stops',), ('outages',)]\n"
     ]
    },
    {
     "data": {
      "text/plain": "<sqlite3.Cursor at 0x136581840>"
     },
     "execution_count": 3,
     "metadata": {},
     "output_type": "execute_result"
    }
   ],
   "source": [
    "# Connect to the database\n",
    "conn = sqlite3.connect('../max-experiments/itinerary-scraping/journeys.db')\n",
    "# display the schema\n",
    "cursor = conn.cursor()\n",
    "cursor.execute(\"SELECT name FROM sqlite_master WHERE type='table';\")\n",
    "print(cursor.fetchall())\n",
    "\n",
    "cursor.execute(\"SELECT * FROM journeys\")"
   ],
   "metadata": {
    "collapsed": false
   }
  },
  {
   "cell_type": "code",
   "execution_count": 25,
   "outputs": [
    {
     "name": "stdout",
     "output_type": "stream",
     "text": [
      "Route Example: Monplaisir La Plaine->Parc Tête d'Or Duquesne\n",
      "Route Example Coordinates: (45.726309,4.88015)->(45.773249,4.850677)\n"
     ]
    }
   ],
   "source": [
    "# Sample Limit\n",
    "SAMPLE_LIMIT = 176\n",
    "# Get starting and ending coordinastes\n",
    "cursor.execute(\"SELECT stops from journeys\\n\"\n",
    "               \"ORDER BY random()\")\n",
    "stops = cursor.fetchmany(SAMPLE_LIMIT)\n",
    "\n",
    "# Load stop list and get start and end point\n",
    "stop_dict = [json.loads(stop[0]) for stop in stops]\n",
    "start_locations = [los[0]['stop_point'] for los in stop_dict]\n",
    "end_locations = [los[-1]['stop_point'] for los in stop_dict]\n",
    "\n",
    "print(f\"Route Example: {start_locations[0]}->{end_locations[0]}\")\n",
    "\n",
    "# Get stop coordinate table prepared\n",
    "cursor.execute(\"SELECT name,coord FROM stops\")\n",
    "stop_coords = dict(cursor.fetchall())\n",
    "\n",
    "gmap_start_coords = []\n",
    "gmap_end_coords = []\n",
    "\n",
    "# Linearly (O(n) * O(1) Hashmap) maps all location coordinates to locations\n",
    "for i in range(len(start_locations)):\n",
    "    start = json.loads(stop_coords[start_locations[i]])\n",
    "    end = json.loads(stop_coords[end_locations[i]])\n",
    "    gmap_start_coords.append(str(f'{start[\"lat\"]},{start[\"lon\"]}'))\n",
    "    gmap_end_coords.append(str(f'{end[\"lat\"]},{end[\"lon\"]}'))\n",
    "\n",
    "print(f\"Route Example Coordinates: ({gmap_start_coords[0]})->({gmap_end_coords[0]})\")\n",
    "\n",
    "# Save results\n",
    "with open('data/start_coords.json','w') as f:\n",
    "    json.dump(gmap_start_coords,f)\n",
    "    f.close()\n",
    "\n",
    "with open('data/end_coords.json','w') as f:\n",
    "    json.dump(gmap_end_coords,f)\n",
    "    f.close()"
   ],
   "metadata": {
    "collapsed": false
   }
  },
  {
   "cell_type": "code",
   "execution_count": 27,
   "outputs": [],
   "source": [
    "# Initialize Google Maps API\n",
    "# Get API Key from api_key.yaml\n",
    "key = None\n",
    "with open(\"api_key.yaml\") as key_file:\n",
    "    try:\n",
    "        data = yaml.safe_load(key_file)\n",
    "        key = data['key']\n",
    "    except yaml.YAMLError as e:\n",
    "        print(e)\n",
    "        exit(1)\n",
    "\n",
    "# Start Google Maps\n",
    "gmaps = googlemaps.Client(key=key)"
   ],
   "metadata": {
    "collapsed": false
   }
  },
  {
   "cell_type": "code",
   "execution_count": 32,
   "outputs": [
    {
     "name": "stdout",
     "output_type": "stream",
     "text": [
      "[{'distance': {'text': '6.5 km', 'value': 6485}, 'duration': {'text': '20 mins', 'value': 1208}, 'duration_in_traffic': {'text': '16 mins', 'value': 956}, 'end_address': \"Parc Tête d'Or Duquesne, 69006 Lyon, France\", 'end_location': {'lat': 45.7732362, 'lng': 4.8506796}, 'start_address': 'Monplaisir La Plaine, 69008 Lyon, France', 'start_location': {'lat': 45.7263257, 'lng': 4.8801766}, 'steps': [{'distance': {'text': '0.8 km', 'value': 778}, 'duration': {'text': '2 mins', 'value': 145}, 'end_location': {'lat': 45.7316996, 'lng': 4.8738145}, 'html_instructions': 'Head <b>northwest</b> on <b>Av. Paul Santy</b> toward <b>Rue de la Moselle</b>', 'polyline': {'points': 'q|avGcdx\\\\ILA@u@lAyAtCMTo@fAMP[^c@f@[^KN{@hAKNcAhAKLw@|@OPKNmAvAe@d@WTeBfBe@h@EB?@kApAy@`Ak@h@OJUT'}, 'start_location': {'lat': 45.7263257, 'lng': 4.8801766}, 'travel_mode': 'DRIVING'}, {'distance': {'text': '1.3 km', 'value': 1296}, 'duration': {'text': '4 mins', 'value': 254}, 'end_location': {'lat': 45.7433419, 'lng': 4.8742681}, 'html_instructions': 'Turn <b>right</b> onto <b>Rue Maryse Bastié</b>', 'maneuver': 'turn-right', 'polyline': {'points': 'c~bvGi|v\\\\YGiAE]?c@?I?Q?oACW?a@?sDIyA?c@CO?U?WAC?}AAG?iBAwACkBCW?c@C]@eDGe@?yB@u@A_@CQAg@A]EwCAiACcKMOA'}, 'start_location': {'lat': 45.7316996, 'lng': 4.8738145}, 'travel_mode': 'DRIVING'}, {'distance': {'text': '0.1 km', 'value': 121}, 'duration': {'text': '1 min', 'value': 40}, 'end_location': {'lat': 45.744407, 'lng': 4.874561}, 'html_instructions': 'Continue onto <b>Rue Feuillat</b>', 'polyline': {'points': '{fevGe_w\\\\QAmASa@KsAW'}, 'start_location': {'lat': 45.7433419, 'lng': 4.8742681}, 'travel_mode': 'DRIVING'}, {'distance': {'text': '1.3 km', 'value': 1297}, 'duration': {'text': '3 mins', 'value': 203}, 'end_location': {'lat': 45.7496367, 'lng': 4.859628}, 'html_instructions': 'Turn <b>left</b> onto <b>Cr Albert Thomas</b>', 'maneuver': 'turn-left', 'polyline': {'points': 'qmevG_aw\\\\_AvD]rAqAjFCJq@rCQt@m@~Be@pBENa@`B?@Qr@g@pBOj@aAdEcCzJW`Ag@vBK^k@~Be@rB]nAu@zCIVa@~ACJMb@K^M^Qd@ILOp@ERCJMl@ADAD'}, 'start_location': {'lat': 45.744407, 'lng': 4.874561}, 'travel_mode': 'DRIVING'}, {'distance': {'text': '1.6 km', 'value': 1578}, 'duration': {'text': '4 mins', 'value': 260}, 'end_location': {'lat': 45.7636623, 'lng': 4.858098399999999}, 'html_instructions': 'Turn <b>right</b> onto <b>Bd Marius Vivier Merle</b>', 'maneuver': 'turn-right', 'polyline': {'points': 'gnfvGuct\\\\c@GACAAAAACyAWSEg@ISCI?WAQ@YJ}@J{@Fc@Fc@Da@Fc@DI@oD`@i@FUBqANy@J]DcBT]DWDu@H{@HaAN_@DG@y@HMBA?aA@SFSFe@DA@a@DE?E@S@Q?wANuANc@Fc@Dc@D_ALc@Dc@FQBQ?{@BwAJQ@Q@SBc@F[Bi@HU@G@M@M@o@Dc@Bc@BG@[?c@@SAQCOC?AQEOIUKYO'}, 'start_location': {'lat': 45.7496367, 'lng': 4.859628}, 'travel_mode': 'DRIVING'}, {'distance': {'text': '0.5 km', 'value': 498}, 'duration': {'text': '2 mins', 'value': 141}, 'end_location': {'lat': 45.7680042, 'lng': 4.8591533}, 'html_instructions': 'Continue onto <b>Bd Jules Favre</b>', 'polyline': {'points': '{eivGczs\\\\EAAACEgBm@u@]]QcAc@y@]gBo@WEQ?k@AuBFo@?u@@KBK?mAAI?E@M@'}, 'start_location': {'lat': 45.7636623, 'lng': 4.858098399999999}, 'travel_mode': 'DRIVING'}, {'distance': {'text': '0.8 km', 'value': 848}, 'duration': {'text': '3 mins', 'value': 150}, 'end_location': {'lat': 45.7732779, 'lng': 4.8515425}, 'html_instructions': 'Turn <b>left</b> onto <b>Boulevard des Belges</b>', 'maneuver': 'turn-left', 'polyline': {'points': '_ajvGu`t\\\\g@l@SVk@n@KNUTWZaA|@iBpBe@b@OLYXw@bA_A`Aa@b@{@~@a@b@YZc@d@GHEDIJMPQTOb@GTg@zASn@Mj@_A~CQf@[fA{@tCGP'}, 'start_location': {'lat': 45.7680042, 'lng': 4.8591533}, 'travel_mode': 'DRIVING'}, {'distance': {'text': '35 m', 'value': 35}, 'duration': {'text': '1 min', 'value': 7}, 'end_location': {'lat': 45.7732799, 'lng': 4.8511166}, 'html_instructions': 'Turn <b>left</b> onto <b>Rue Duquesne</b>', 'maneuver': 'turn-left', 'polyline': {'points': '_bkvGcqr\\\\GRF~@'}, 'start_location': {'lat': 45.7732779, 'lng': 4.8515425}, 'travel_mode': 'DRIVING'}, {'distance': {'text': '34 m', 'value': 34}, 'duration': {'text': '1 min', 'value': 8}, 'end_location': {'lat': 45.7732362, 'lng': 4.8506796}, 'html_instructions': 'Keep <b>right</b> to stay on <b>Rue Duquesne</b>', 'maneuver': 'keep-right', 'polyline': {'points': '_bkvGonr\\\\Bj@Bj@'}, 'start_location': {'lat': 45.7732799, 'lng': 4.8511166}, 'travel_mode': 'DRIVING'}], 'traffic_speed_entry': [], 'via_waypoint': []}]\n",
      "Total Walking Distance: -61\n"
     ]
    }
   ],
   "source": [
    "# Start requesting directions\n",
    "directions_result_driving = gmaps.directions(gmap_start_coords[0],gmap_end_coords[0],mode=\"driving\",departure_time=datetime.datetime.now())\n",
    "\n",
    "directions_result_walking = gmaps.directions(gmap_start_coords[0],gmap_end_coords[0],mode=\"walking\",departure_time=datetime.datetime.now())\n",
    "\n",
    "def get_leg_dist(legs):\n",
    "    distance = 0\n",
    "    for leg in legs:\n",
    "        distance += leg['distance']['value']\n",
    "    return distance\n",
    "\n",
    "# Calculate Walking amount statistic\n",
    "if directions_result_driving and directions_result_walking:\n",
    "    print(directions_result_driving[0]['legs'])\n",
    "\n",
    "    driving_legs = directions_result_driving[0]['legs']\n",
    "    walking_legs = directions_result_walking[0]['legs']\n",
    "\n",
    "    driving_dist = get_leg_dist(driving_legs)\n",
    "    walking_dist = get_leg_dist(walking_legs)\n",
    "\n",
    "    print(f\"Total Walking Distance: {walking_dist-driving_dist}\")"
   ],
   "metadata": {
    "collapsed": false
   }
  },
  {
   "cell_type": "code",
   "execution_count": null,
   "outputs": [],
   "source": [],
   "metadata": {
    "collapsed": false
   }
  }
 ],
 "metadata": {
  "kernelspec": {
   "display_name": "Python 3",
   "language": "python",
   "name": "python3"
  },
  "language_info": {
   "codemirror_mode": {
    "name": "ipython",
    "version": 2
   },
   "file_extension": ".py",
   "mimetype": "text/x-python",
   "name": "python",
   "nbconvert_exporter": "python",
   "pygments_lexer": "ipython2",
   "version": "2.7.6"
  }
 },
 "nbformat": 4,
 "nbformat_minor": 0
}
