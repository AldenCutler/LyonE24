{
 "cells": [
  {
   "cell_type": "code",
   "execution_count": 1,
   "metadata": {},
   "outputs": [],
   "source": [
    "import sqlite3"
   ]
  },
  {
   "cell_type": "markdown",
   "metadata": {},
   "source": [
    "### Connect to the database"
   ]
  },
  {
   "cell_type": "code",
   "execution_count": 6,
   "metadata": {},
   "outputs": [],
   "source": [
    "conn = sqlite3.connect('../max-experiments/itinerary-scraping/journeys.db')\n",
    "cursor = conn.cursor()"
   ]
  },
  {
   "cell_type": "markdown",
   "metadata": {},
   "source": [
    "### Outage durations"
   ]
  },
  {
   "cell_type": "code",
   "execution_count": 24,
   "metadata": {},
   "outputs": [
    {
     "name": "stdout",
     "output_type": "stream",
     "text": [
      "183\n",
      "Counter({'stop_point:tcl:SP:46024': 8, 'stop_point:tcl:SP:30205': 5, 'stop_point:tcl:SP:46051': 5, 'stop_point:tcl:SP:46033': 5, 'stop_point:tcl:SP:46036': 4, 'stop_point:tcl:SP:48137': 4, 'stop_point:tcl:SP:30209': 4, 'stop_point:tcl:SP:30189': 4, 'stop_point:tcl:SP:30197': 4, 'stop_point:tcl:SP:46058': 4, 'stop_point:tcl:SP:30445': 4, 'stop_point:tcl:SP:30211': 4, 'stop_point:tcl:SP:30156': 3, 'stop_point:tcl:SP:46053': 3, 'stop_point:tcl:SP:46054': 3, 'stop_point:tcl:SP:46026': 3, 'stop_point:tcl:SP:46028': 3, 'stop_point:tcl:SP:30448': 3, 'stop_point:tcl:SP:30198': 3, 'stop_point:tcl:SP:30200': 3, 'stop_point:tcl:SP:30208': 3, 'stop_point:tcl:SP:46060': 3, 'stop_point:tcl:SP:46025': 3, 'stop_point:tcl:SP:42744': 3, 'stop_point:tcl:SP:42738': 3, 'stop_point:tcl:SP:30185': 3, 'stop_point:tcl:SP:36394': 3, 'stop_point:tcl:SP:30191': 3, 'stop_point:tcl:SP:30199': 3, 'stop_point:tcl:SP:30103': 3, 'stop_point:tcl:SP:30447': 3, 'stop_point:tcl:SP:30210': 3, 'stop_point:tcl:SP:46031': 2, 'stop_point:tcl:SP:33265': 2, 'stop_point:tcl:SP:46059': 2, 'stop_point:tcl:SP:31663': 2, 'stop_point:tcl:SP:42739': 2, 'stop_point:tcl:SP:46061': 2, 'stop_point:tcl:SP:30188': 2, 'stop_point:tcl:SP:30184': 2, 'stop_point:tcl:SP:30158': 2, 'stop_point:tcl:SP:48138': 2, 'stop_point:tcl:SP:644': 2, 'stop_point:tcl:SP:30206': 2, 'stop_point:tcl:SP:46040': 2, 'stop_point:tcl:SP:30207': 2, 'stop_point:tcl:SP:30193': 2, 'stop_point:tcl:SP:30472': 2, 'stop_point:tcl:SP:45861': 2, 'stop_point:tcl:SP:30201': 2, 'stop_point:tcl:SP:30446': 2, 'stop_point:tcl:SP:30190': 2, 'stop_point:tcl:SP:30194': 2, 'stop_point:tcl:SP:46023': 1, 'stop_point:tcl:SP:46055': 1, 'stop_point:tcl:SP:30202': 1, 'stop_point:tcl:SP:30192': 1, 'stop_point:tcl:SP:36434': 1, 'stop_point:tcl:SP:46032': 1, 'stop_point:tcl:SP:42740': 1, 'stop_point:tcl:SP:46022': 1, 'stop_point:tcl:SP:46030': 1, 'stop_point:tcl:SP:46034': 1, 'stop_point:tcl:SP:46049': 1, 'stop_point:tcl:SP:30183': 1, 'stop_point:tcl:SP:46056': 1, 'stop_point:tcl:SP:46052': 1, 'stop_point:tcl:SP:30215': 1, 'stop_point:tcl:SP:42736': 1, 'stop_point:tcl:SP:32118': 1, 'stop_point:tcl:SP:46027': 1, 'stop_point:tcl:SP:42741': 1, 'stop_point:tcl:SP:42745': 1, 'stop_point:tcl:SP:46050': 1, 'stop_point:tcl:SP:30186': 1, 'stop_point:tcl:SP:46035': 1, 'stop_point:tcl:SP:30187': 1, 'stop_point:tcl:SP:42743': 1, 'stop_point:tcl:SP:643': 1})\n",
      "---\n",
      "% of journeys with outages: 0.104\n"
     ]
    }
   ],
   "source": [
    "cursor.execute('SELECT * FROM outages')\n",
    "outages = cursor.fetchall()\n",
    "\n",
    "cursor.execute('SELECT * FROM journeys')\n",
    "journeys = cursor.fetchall()\n",
    "\n",
    "# number of outages\n",
    "print(len(outages))\n",
    "\n",
    "# frequency of outages\n",
    "from collections import Counter\n",
    "outage_freq = Counter([outage[1] for outage in outages])\n",
    "print(outage_freq)\n",
    "\n",
    "print('---')\n",
    "print(\"% of journeys with outages:\", round(len(outages)/len(journeys) * 100, 3))"
   ]
  }
 ],
 "metadata": {
  "kernelspec": {
   "display_name": "Python 3",
   "language": "python",
   "name": "python3"
  },
  "language_info": {
   "codemirror_mode": {
    "name": "ipython",
    "version": 3
   },
   "file_extension": ".py",
   "mimetype": "text/x-python",
   "name": "python",
   "nbconvert_exporter": "python",
   "pygments_lexer": "ipython3",
   "version": "3.11.3"
  }
 },
 "nbformat": 4,
 "nbformat_minor": 2
}
