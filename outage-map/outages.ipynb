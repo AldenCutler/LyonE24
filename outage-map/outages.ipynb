{
 "cells": [
  {
   "cell_type": "markdown",
   "metadata": {},
   "source": [
    "### Connect to the database"
   ]
  },
  {
   "cell_type": "code",
   "execution_count": null,
   "metadata": {},
   "outputs": [],
   "source": [
    "import sqlite3\n",
    "import geopandas as gpd\n",
    "import json\n",
    "from datetime import datetime\n",
    "import pandas as pd\n",
    "import folium\n",
    "from folium.plugins import MarkerCluster\n",
    "from folium.plugins import HeatMap\n",
    "\n",
    "conn = sqlite3.connect('../max-experiments/itinerary-scraping/journeys.db')\n",
    "cursor = conn.cursor()\n",
    "\n",
    "# display all tables\n",
    "cursor.execute(\"SELECT name FROM sqlite_master WHERE type='table';\")\n",
    "print(cursor.fetchall())"
   ]
  },
  {
   "cell_type": "markdown",
   "metadata": {},
   "source": [
    "### Import Scraped Data"
   ]
  },
  {
   "cell_type": "code",
   "execution_count": null,
   "metadata": {},
   "outputs": [],
   "source": [
    "cursor.execute('SELECT * FROM outages')\n",
    "outages = cursor.fetchall()\n",
    "\n",
    "cursor.execute('SELECT * FROM journeys')\n",
    "journeys = cursor.fetchall()\n",
    "\n",
    "cursor.execute('SELECT * FROM stops')\n",
    "stops = cursor.fetchall()\n",
    "\n",
    "cursor.close()\n",
    "conn.close()"
   ]
  },
  {
   "cell_type": "markdown",
   "metadata": {},
   "source": [
    "### Set Up Dataframes"
   ]
  },
  {
   "cell_type": "code",
   "execution_count": null,
   "metadata": {},
   "outputs": [],
   "source": [
    "outages_df = pd.DataFrame(outages, columns=['outage_id', 'stop_id', 'effect', 'updated_at', 'outage_data'])\n",
    "stops_df = pd.DataFrame(stops, columns=['stop_id', 'stop_name', 'stop_coords', 'stop_acc'])\n",
    "\n",
    "# merge outages_df with stops_df\n",
    "merged_df = pd.merge(outages_df, stops_df, on='stop_id')"
   ]
  },
  {
   "cell_type": "markdown",
   "metadata": {},
   "source": [
    "### Import TCL Data"
   ]
  },
  {
   "cell_type": "code",
   "execution_count": null,
   "metadata": {},
   "outputs": [],
   "source": [
    "tcl_metro = gpd.read_file('data/tcl_metro.json')\n",
    "tcl_metro = tcl_metro.drop(columns=['date_debut', 'date_fin', 'last_update', 'last_update_fme'])"
   ]
  },
  {
   "cell_type": "code",
   "execution_count": null,
   "metadata": {},
   "outputs": [],
   "source": [
    "# Metro line colors\n",
    "colors = []\n",
    "for index, row in tcl_metro.iterrows():\n",
    "    if row['ligne'] == 'D': # green line\n",
    "        colors.append('#029C41')\n",
    "    elif row['ligne'] == 'A':   # pink line\n",
    "        colors.append('#E62E86')\n",
    "    elif row['ligne'] == 'B':   # blue line\n",
    "        colors.append('#0065B1')\n",
    "    elif row['ligne'] == 'C':   # yellow line\n",
    "        colors.append('#F48E06')\n",
    "    else:   # furnicular line, light green\n",
    "        colors.append(\"#93BF38\")\n",
    "        \n",
    "tcl_metro['style'] = [\n",
    "    {\n",
    "        \"color\": colors[i],\n",
    "        \"weight\": 5,\n",
    "        \"opacity\": 1\n",
    "    }\n",
    "    for i in range(len(tcl_metro))\n",
    "]"
   ]
  },
  {
   "cell_type": "markdown",
   "metadata": {},
   "source": [
    "### Expand Condensed Data"
   ]
  },
  {
   "cell_type": "code",
   "execution_count": null,
   "metadata": {},
   "outputs": [],
   "source": [
    "# unpack stop_coords\n",
    "merged_df['lon'] = merged_df['stop_coords'].apply(lambda x: x.split(',')[0][9:-1])\n",
    "merged_df['lat'] = merged_df['stop_coords'].apply(lambda x: x.split(',')[1][9:-2])\n",
    "merged_df = merged_df.drop(columns=['stop_coords'])\n",
    "\n",
    "# unpack outage_data\n",
    "merged_df['outage_data'] = merged_df['outage_data'].apply(lambda x: json.loads(x))\n",
    "merged_df['stop_acc'] = merged_df['stop_acc'].apply(lambda x: json.loads(x))\n",
    "begin, end = [], []\n",
    "cause, effect = [], []\n",
    "for row in merged_df['outage_data']:\n",
    "    ### Start and End Times\n",
    "    # current format: YYYYMMDDTHHMMSS\n",
    "    # required format: YYYY-MM-DDTHH:MM:SS+02:00        \n",
    "    times = row['periods']    \n",
    "    begin.append(datetime.strptime(times[0]['begin'], '%Y%m%dT%H%M%S').isoformat() + '+02:00')\n",
    "    end.append(datetime.strptime(times[0]['end'], '%Y%m%dT%H%M%S').isoformat() + '+02:00')\n",
    "    \n",
    "    ### Cause and Effect\n",
    "    cause.append(row['cause'])\n",
    "    effect.append(row['effect'])\n",
    "    \n",
    "merged_df['begin'] = begin\n",
    "merged_df['end'] = end\n",
    "merged_df['cause'] = cause\n",
    "merged_df['effect'] = effect\n",
    "\n",
    "merged_df = merged_df.drop(columns=['outage_data'])"
   ]
  },
  {
   "cell_type": "code",
   "execution_count": null,
   "metadata": {},
   "outputs": [],
   "source": [
    "merged_df.head()"
   ]
  },
  {
   "cell_type": "code",
   "execution_count": null,
   "metadata": {},
   "outputs": [],
   "source": [
    "# plot outages on a heatmap\n",
    "m = folium.Map(location=[45.75, 4.85], zoom_start=13, tiles='cartodb voyager')\n",
    "\n",
    "# heatmap\n",
    "heat_data = [[row['lat'], row['lon']] for _, row in merged_df.iterrows()]\n",
    "HeatMap(heat_data).add_to(m)\n",
    "\n",
    "# marker cluster\n",
    "marker_cluster = MarkerCluster().add_to(m)\n",
    "for idx, row in merged_df.iterrows():\n",
    "    tooltip = f\"Stop Name: {row['stop_name']}<br>Outage ID: {row['outage_id']}<br>Start: {row['begin']}<br>End: {row['end']}<br>Cause: {row['cause']}<br>Effect: {row['effect']}\"\n",
    "                \n",
    "    folium.Marker([row['lat'], row['lon']], tooltip=tooltip).add_to(marker_cluster)\n",
    "\n",
    "# tcl metro lines\n",
    "folium.GeoJson(tcl_metro, style_function=lambda x: x['properties']['style']).add_to(m)\n",
    "\n",
    "\n",
    "'''\n",
    "Outage database only contains data on metro line/stop outages, so bus lines are not displayed by default.\n",
    "The bus line data is still useful to see how metro lines are connected to bus lines and thus how outages on metro lines could affect bus lines.\n",
    "Uncomment the following lines to display the bus lines.\n",
    "'''\n",
    "# tcl_bus = gpd.read_file('data/tcl_bus.json')\n",
    "# tcl_bus = tcl_bus.drop(columns=['date_debut', 'date_fin', 'last_update', 'last_update_fme'])\n",
    "# folium.GeoJson(tcl_bus, style_function=lambda x: {'color': '#555', 'weight': 1.5, 'dashArray': '5, 5'}).add_to(m)\n",
    "\n",
    "m.save('outages_heatmap.html')"
   ]
  }
 ],
 "metadata": {
  "kernelspec": {
   "display_name": "Python 3",
   "language": "python",
   "name": "python3"
  },
  "language_info": {
   "codemirror_mode": {
    "name": "ipython",
    "version": 3
   },
   "file_extension": ".py",
   "mimetype": "text/x-python",
   "name": "python",
   "nbconvert_exporter": "python",
   "pygments_lexer": "ipython3",
   "version": "3.11.3"
  }
 },
 "nbformat": 4,
 "nbformat_minor": 2
}
